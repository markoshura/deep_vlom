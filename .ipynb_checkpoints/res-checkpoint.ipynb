{
 "cells": [
  {
   "cell_type": "code",
   "execution_count": 33,
   "metadata": {
    "collapsed": true
   },
   "outputs": [],
   "source": [
    "%matplotlib inline\n",
    "\n",
    "import math\n",
    "import numpy as np\n",
    "import matplotlib.pyplot as plt\n",
    "from math import gamma\n"
   ]
  },
  {
   "cell_type": "code",
   "execution_count": null,
   "metadata": {},
   "outputs": [],
   "source": [
    "def v(r):\n",
    "    return z_0(i) / r * (1 - 3 / 2 * r / r_0 + 1 / 2 * pow((r / r_0), 3))\n",
    "#если eta>>1\n",
    "def z_0(i):\n",
    "    return 317.5 * A * pow(T[i], (3 / 2))*2/(np.pi**(1/2)) * integral(-eta(i))/ (rho)\n",
    "#функции Ферми-Дирака\n",
    "#def i_much_less_minus1(k,x):\n",
    " #   return gamma(k+1)*math.exp(x)\n",
    "#def i_much_more_1(k,x):\n",
    "#    return x**(k+1)/(k+1)\n",
    "def integral(x):\n",
    "    sqx=x**(1/2)\n",
    "    xsqx=x*sqx\n",
    "    #Апроксимация функции дирака трёхчленной формулой при k=1/2\n",
    "    if (x>=176868.709):\n",
    "        return xsqx/1.5+0.82246703342411321823620758332301/sqx+0.71027462212293443818237742585514/(x*xsqx);\n",
    "    elif (x<-17.9):\n",
    "            return 0.88622692545275801364908374167057*math.exp(x)\n",
    "    \n",
    "    else: \n",
    "        if (x>30.0):\n",
    "           i0=x\n",
    "        else:\n",
    "           i0=math.log(1.0+math.exp(x),math.e)\n",
    "        \n",
    "        return (0.8862269254528)*i0*((1.0+1.178*i0+(0.1812102675)*(i0**3.0))**(1.0/6.0))   \n",
    "def eta(i):\n",
    "    q = 2.795*10**(-3)*z*rho/(A*T[i]**(3/2))\n",
    "    print(q)\n",
    "    return 1/2*math.log(math.pi/6,math.e)-3/2*math.log((math.exp((2/3*q**(2))**(1/3))-1),math.e)\n",
    "    "
   ]
  },
  {
   "cell_type": "code",
   "execution_count": null,
   "metadata": {},
   "outputs": [],
   "source": [
    "j=1;\n",
    "eta(j)"
   ]
  },
  {
   "cell_type": "code",
   "execution_count": 1,
   "metadata": {},
   "outputs": [
    {
     "ename": "NameError",
     "evalue": "name 'math' is not defined",
     "output_type": "error",
     "traceback": [
      "\u001b[1;31m---------------------------------------------------------------------------\u001b[0m",
      "\u001b[1;31mNameError\u001b[0m                                 Traceback (most recent call last)",
      "\u001b[1;32m<ipython-input-1-6d6b0659075b>\u001b[0m in \u001b[0;36m<module>\u001b[1;34m()\u001b[0m\n\u001b[0;32m      2\u001b[0m \u001b[0ma_0\u001b[0m \u001b[1;33m=\u001b[0m  \u001b[1;36m0.52917721067\u001b[0m\u001b[1;33m*\u001b[0m\u001b[1;36m10\u001b[0m\u001b[1;33m**\u001b[0m\u001b[1;33m(\u001b[0m\u001b[1;33m-\u001b[0m\u001b[1;36m8\u001b[0m\u001b[1;33m)\u001b[0m\u001b[1;33m\u001b[0m\u001b[0m\n\u001b[0;32m      3\u001b[0m \u001b[0mNa\u001b[0m \u001b[1;33m=\u001b[0m \u001b[1;36m6.022\u001b[0m\u001b[1;33m*\u001b[0m \u001b[1;36m10\u001b[0m\u001b[1;33m**\u001b[0m\u001b[1;33m(\u001b[0m\u001b[1;36m23\u001b[0m\u001b[1;33m)\u001b[0m\u001b[1;33m\u001b[0m\u001b[0m\n\u001b[1;32m----> 4\u001b[1;33m \u001b[0mr_0\u001b[0m \u001b[1;33m=\u001b[0m \u001b[1;36m1\u001b[0m\u001b[1;33m/\u001b[0m\u001b[0ma_0\u001b[0m\u001b[1;33m*\u001b[0m\u001b[1;33m(\u001b[0m\u001b[1;36m3\u001b[0m\u001b[1;33m/\u001b[0m\u001b[1;33m(\u001b[0m\u001b[1;36m4\u001b[0m\u001b[1;33m*\u001b[0m\u001b[0mmath\u001b[0m\u001b[1;33m.\u001b[0m\u001b[0mpi\u001b[0m\u001b[1;33m)\u001b[0m\u001b[1;33m*\u001b[0m\u001b[0mA\u001b[0m\u001b[1;33m/\u001b[0m\u001b[1;33m(\u001b[0m\u001b[0mrho\u001b[0m\u001b[1;33m*\u001b[0m\u001b[0mNa\u001b[0m\u001b[1;33m)\u001b[0m\u001b[1;33m)\u001b[0m\u001b[1;33m**\u001b[0m\u001b[1;33m(\u001b[0m\u001b[1;36m1\u001b[0m\u001b[1;33m/\u001b[0m\u001b[1;36m3\u001b[0m\u001b[1;33m)\u001b[0m\u001b[1;33m\u001b[0m\u001b[0m\n\u001b[0m\u001b[0;32m      5\u001b[0m \u001b[0mprint\u001b[0m\u001b[1;33m(\u001b[0m\u001b[0mr_0\u001b[0m\u001b[1;33m)\u001b[0m\u001b[1;33m\u001b[0m\u001b[0m\n\u001b[0;32m      6\u001b[0m \u001b[1;31m#eta = [2.78, 4.75, 6.99, 10.1]\u001b[0m\u001b[1;33m\u001b[0m\u001b[1;33m\u001b[0m\u001b[0m\n",
      "\u001b[1;31mNameError\u001b[0m: name 'math' is not defined"
     ]
    }
   ],
   "source": [
    "z = 79\n",
    "a_0 =  0.52917721067*10**(-8)\n",
    "Na = 6.022* 10**(23)\n",
    "r_0 = 1/a_0*(3/(4*math.pi)*A/(rho*Na))**(1/3)\n",
    "print(r_0)\n",
    "#eta = [2.78, 4.75, 6.99, 10.1]\n",
    "T = [0.01, 0.1, 1, 10]\n",
    "#eta = 1/2*math.log(math.pi/6,math.e)-3/2*math.log((math.exp((2*q**2/3)**(1/3))-1),math.e)\n",
    "#q = 2.795*10**(-3)*z_0*rho/(A*T**(3/2))\n",
    "# Z_0 = [3.80, 17.1, 57.8, 77.9]\n",
    "# r_* = [2.63, 2.58, 0.83, 0.11]\n",
    "# theta =\n",
    "\n",
    "A = 196.96657\n",
    "rho = 1\n",
    "\n",
    "# rho_e = pow((2*theta),(3/2))*(I(-eta)_(1/2))/(2*pow(math.pi,2))\n",
    "# rho_e = Z_0/((4/3)*math.pi*pow(r_0,3))\n",
    "# Z_0 = 4/3*math.pi*pow(r_0,3)*pow((2*theta),(3/2))/(2*pow(math.pi,2))*(I(-eta)_(1/2))\n",
    "\n",
    "\n",
    "G=[[],[],[],[]]\n",
    "R=[[],[],[],[]]\n",
    "for i in range(0,4):\n",
    "    z_0(i)\n",
    "    eta(i)\n",
    "    print(eta(i))\n",
    "    r = 0.01\n",
    "    while r < r_0-0.01:\n",
    "        v(r)\n",
    "        y = r * v(r)\n",
    "        G[i].append(y)\n",
    "        R[i].append(r)\n",
    "        r += 0.01"
   ]
  },
  {
   "cell_type": "code",
   "execution_count": 1,
   "metadata": {},
   "outputs": [
    {
     "ename": "NameError",
     "evalue": "name 'plt' is not defined",
     "output_type": "error",
     "traceback": [
      "\u001b[1;31m---------------------------------------------------------------------------\u001b[0m",
      "\u001b[1;31mNameError\u001b[0m                                 Traceback (most recent call last)",
      "\u001b[1;32m<ipython-input-1-a91c3aad2199>\u001b[0m in \u001b[0;36m<module>\u001b[1;34m()\u001b[0m\n\u001b[1;32m----> 1\u001b[1;33m \u001b[0mfig\u001b[0m \u001b[1;33m=\u001b[0m \u001b[0mplt\u001b[0m\u001b[1;33m.\u001b[0m\u001b[0mfigure\u001b[0m\u001b[1;33m(\u001b[0m\u001b[1;33m)\u001b[0m\u001b[1;33m\u001b[0m\u001b[0m\n\u001b[0m\u001b[0;32m      2\u001b[0m \u001b[1;32mfor\u001b[0m \u001b[0mi\u001b[0m \u001b[1;32min\u001b[0m \u001b[0mrange\u001b[0m\u001b[1;33m(\u001b[0m\u001b[1;36m0\u001b[0m\u001b[1;33m,\u001b[0m\u001b[1;36m4\u001b[0m\u001b[1;33m)\u001b[0m\u001b[1;33m:\u001b[0m\u001b[1;33m\u001b[0m\u001b[0m\n\u001b[0;32m      3\u001b[0m     \u001b[0mgraph1\u001b[0m \u001b[1;33m=\u001b[0m \u001b[0mplt\u001b[0m\u001b[1;33m.\u001b[0m\u001b[0mplot\u001b[0m\u001b[1;33m(\u001b[0m\u001b[0mR\u001b[0m\u001b[1;33m[\u001b[0m\u001b[0mi\u001b[0m\u001b[1;33m]\u001b[0m\u001b[1;33m,\u001b[0m \u001b[0mG\u001b[0m\u001b[1;33m[\u001b[0m\u001b[0mi\u001b[0m\u001b[1;33m]\u001b[0m\u001b[1;33m)\u001b[0m\u001b[1;33m\u001b[0m\u001b[0m\n\u001b[0;32m      4\u001b[0m     \u001b[0mprint\u001b[0m\u001b[1;33m(\u001b[0m\u001b[1;34m'Plot: '\u001b[0m\u001b[1;33m,\u001b[0m\u001b[0mi\u001b[0m\u001b[1;33m+\u001b[0m\u001b[1;36m1\u001b[0m\u001b[1;33m,\u001b[0m\u001b[1;34m' '\u001b[0m\u001b[1;33m,\u001b[0m\u001b[1;34m'T= '\u001b[0m\u001b[1;33m,\u001b[0m \u001b[0mT\u001b[0m\u001b[1;33m[\u001b[0m\u001b[0mi\u001b[0m\u001b[1;33m]\u001b[0m\u001b[1;33m)\u001b[0m\u001b[1;33m\u001b[0m\u001b[0m\n\u001b[0;32m      5\u001b[0m \u001b[1;33m\u001b[0m\u001b[0m\n",
      "\u001b[1;31mNameError\u001b[0m: name 'plt' is not defined"
     ]
    }
   ],
   "source": [
    "fig = plt.figure()\n",
    "for i in range(0,4):\n",
    "    graph1 = plt.plot(R[i], G[i])\n",
    "    print('Plot: ',i+1,' ','T= ', T[i])\n",
    "\n",
    "\n",
    "\n",
    "# save(name='pic_2_1', fmt='pdf')\n",
    "# save(name='pic_2_1', fmt='png')\n",
    "plt.grid(True)\n",
    "plt.show()"
   ]
  },
  {
   "cell_type": "code",
   "execution_count": null,
   "metadata": {},
   "outputs": [],
   "source": []
  },
  {
   "cell_type": "code",
   "execution_count": 56,
   "metadata": {},
   "outputs": [],
   "source": []
  },
  {
   "cell_type": "code",
   "execution_count": 56,
   "metadata": {},
   "outputs": [],
   "source": []
  },
  {
   "cell_type": "code",
   "execution_count": null,
   "metadata": {},
   "outputs": [],
   "source": []
  }
 ],
 "metadata": {
  "kernelspec": {
   "display_name": "Python 3",
   "language": "python",
   "name": "python3"
  },
  "language_info": {
   "codemirror_mode": {
    "name": "ipython",
    "version": 3
   },
   "file_extension": ".py",
   "mimetype": "text/x-python",
   "name": "python",
   "nbconvert_exporter": "python",
   "pygments_lexer": "ipython3",
   "version": "3.7.0"
  }
 },
 "nbformat": 4,
 "nbformat_minor": 1
}
