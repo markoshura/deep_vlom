{
 "cells": [
  {
   "cell_type": "code",
   "execution_count": 1,
   "metadata": {
    "collapsed": true
   },
   "outputs": [],
   "source": [
    "%matplotlib inline\n",
    "\n",
    "import math\n",
    "import numpy as np\n",
    "import matplotlib.pyplot as plt\n",
    "from math import gamma"
   ]
  },
  {
   "cell_type": "code",
   "execution_count": 2,
   "metadata": {
    "collapsed": true
   },
   "outputs": [],
   "source": [
    "       "
   ]
  },
  {
   "cell_type": "code",
   "execution_count": 2,
   "metadata": {},
   "outputs": [],
   "source": [
    "#ТАБЛИЧНЫЕ ВЕЛИЧИНЫ\n",
    "\n",
    "\n",
    "#Радиус Бора\n",
    "a_0 =  0.52917721067*10**(-8)\n",
    "\n",
    "#Число Авогадро\n",
    "Na = 6.022* 10**(23)\n",
    "\n",
    "#Энергия Хартри (keV)\n",
    "E_h = 0.02721138602 "
   ]
  },
  {
   "cell_type": "code",
   "execution_count": 3,
   "metadata": {
    "collapsed": true
   },
   "outputs": [],
   "source": [
    "#ИНФОРМАЦИЯ ОБ АТОМЕ\n",
    "\n",
    "\n",
    "#Атомный вес\n",
    "A = 196.96657\n",
    "z = 79"
   ]
  },
  {
   "cell_type": "code",
   "execution_count": 4,
   "metadata": {},
   "outputs": [],
   "source": [
    "#ИЗМЕНЯЮЩИЕСЯ ПАРАМЕТРЫ СИСТЕМЫ\n",
    "\n",
    "\n",
    "#Плотность\n",
    "rho_0 = 1.000"
   ]
  },
  {
   "cell_type": "code",
   "execution_count": 6,
   "metadata": {},
   "outputs": [],
   "source": [
    "#ВСПОМОГАТЕЛЬНЫЕ ФУНКЦИИ\n",
    "\n",
    "\n",
    "#Функция Ферми-Дирака I_1/2\n",
    "def integral_1_2(x):\n",
    "    sqx=x**(1/2)\n",
    "    xsqx=x*sqx\n",
    "    #Апроксимация функции дирака трёхчленной формулой при k=1/2\n",
    "    if (x>=176868.709):\n",
    "        return xsqx/1.5+0.82246703342411321823620758332301/sqx+0.71027462212293443818237742585514/(x*xsqx);\n",
    "    elif (x<-17.9):\n",
    "        return 0.88622692545275801364908374167057*math.exp(x) \n",
    "    else: \n",
    "        if (x>30.0):\n",
    "           i0=x\n",
    "        else:\n",
    "           i0=math.log(1.0+math.exp(x),math.e)\n",
    "        \n",
    "        return (0.8862269254528)*i0*((1.0+1.178*i0+(0.1812102675)*(i0**3.0))**(1.0/6.0)) \n",
    "\n",
    "#Функция Ферми-Дирака I_3/2\n",
    "def integral_3_2(x):\n",
    "    return 3/10*integral_1_2(x)*(125+60*integral_1_2(x)+18*(integral_1_2(x))**2)**(1/3)\n",
    "\n",
    "def integral_minus_1_2(x):\n",
    "    if (x>500000.0):\n",
    "        return 2*x**(1/2)\n",
    "    else:\n",
    "        if (x<-17.9):\n",
    "            return 2*0.88622692545275801364908374167057*math.exp(x)\n",
    "        else:\n",
    "            if (x>30.0):\n",
    "                i0=x\n",
    "            else:\n",
    "                i0=math.log(1.0+math.exp(x))\n",
    "    \n",
    "            return 2*(0.8862269254528)*i0*((1.0+1.614*i0+(0.4844730731296)*(i0**3.0))**(-1.0/6.0))\n"
   ]
  },
  {
   "cell_type": "code",
   "execution_count": 7,
   "metadata": {},
   "outputs": [],
   "source": [
    "#ПАРАМЕТРЫ ЯЧЕЙКИ\n",
    "\n",
    "\n",
    "#Безразмерный потенциал\n",
    "def eta(T,rho):\n",
    "    q = 2.795*10**(-3)*z*rho/(A*T**(3/2))\n",
    "    return 1/2*math.log(math.pi/6,math.e)-3/2*math.log((math.exp((2/3*q**2)**(1/3))-1),math.e)\n",
    "\n",
    "#Заряд ядра\n",
    "def z_0(T, rho):\n",
    "    return 317.5 * A * pow(T, (3 / 2))*2/(np.pi**(1/2)) * integral_1_2(-eta(T,rho))/(rho)\n",
    "\n",
    "#Средний радиус атомной ячейки\n",
    "def r_0(rho):\n",
    "    return 1/a_0*(3/(4*math.pi)*A/(rho*Na))**(1/3)\n",
    "\n",
    "#Объём атомной ячейки\n",
    "def volume(rho):\n",
    "    return 4/2*math.pi*(r_0(rho))**3\n",
    "\n",
    "#Число свободных электронов на атом\n",
    "def rho_e(T, rho):\n",
    "    return z_0(T, rho)/volume(rho)\n",
    "\n",
    "#Характеристическая температура\n",
    "def theta(T):\n",
    "    return T/E_h"
   ]
  },
  {
   "cell_type": "code",
   "execution_count": 8,
   "metadata": {},
   "outputs": [],
   "source": [
    "#ВАЖНЫЕ ФУНКЦИИ СОСТОЯНИЯ\n",
    "\n",
    "\n",
    "#Потенциал в модели ППЭ\n",
    "def V(r, T, rho):\n",
    "    return z/r * (1 - 3 / 2 * r / r_0(rho) + 1 / 2 * pow((r / (r_0(rho))), 3))\n",
    "\n",
    "#Аппроксимация давления электронного газа\n",
    "def P_e(T, rho):\n",
    "    return rho_e(T, rho)*((theta(T))**3+3.36*rho_e(T, rho)*(theta(T))**(3/2)+9/125*(math.pi)**4*(rho_e(T, rho))**2)**(1/3)\n",
    "\n",
    "#Полное давление (ГПа)\n",
    "def P(T, rho):\n",
    "    return 2.942*10**4*(P_e(T,rho)+theta(T)/volume(rho))\n"
   ]
  },
  {
   "cell_type": "code",
   "execution_count": 10,
   "metadata": {
    "collapsed": true
   },
   "outputs": [],
   "source": [
    "Y_P = [[],[],[],[],[],[]]\n",
    "X_rho = [[],[],[],[],[],[]]\n",
    "i = -3\n",
    "T = 10\n",
    "r_glushka = r_0(rho_0)\n",
    "while i<3:\n",
    "    rho = 10**i\n",
    "    eta_test = eta(T,rho)\n",
    "    z_0(T,rho)\n",
    "    r_0(rho)\n",
    "\n",
    "    volume(rho)\n",
    "    rho_e(T,rho)\n",
    "    theta(T)\n",
    "    P_e(T,rho)\n",
    "    P(T,rho)\n",
    "    y = P(T,rho)\n",
    "    Y_P[1].append(math.log(y,10))\n",
    "    X_rho[1].append(i)\n",
    "    i+=0.2"
   ]
  },
  {
   "cell_type": "code",
   "execution_count": 11,
   "metadata": {},
   "outputs": [
    {
     "name": "stdout",
     "output_type": "stream",
     "text": [
      "Plot:  1   T=  10\n"
     ]
    },
    {
     "data": {
      "image/png": "[encoded data removed]",
      "text/plain": [
       "<Figure size 432x288 with 1 Axes>"
      ]
     },
     "metadata": {},
     "output_type": "display_data"
    }
   ],
   "source": [
    "fig = plt.figure()\n",
    "#for i in range(0,6):\n",
    "graph1 = plt.plot(X_rho[1], Y_P[1])\n",
    "print('Plot: ',1,' ','T= ', 10 )\n",
    "\n",
    "\n",
    "\n",
    "# save(name='pic_2_1', fmt='pdf')\n",
    "# save(name='pic_2_1', fmt='png')\n",
    "plt.grid(True)\n",
    "plt.show()"
   ]
  },
  {
   "cell_type": "code",
   "execution_count": 12,
   "metadata": {},
   "outputs": [],
   "source": [
    "Y_V_r = [[],[],[],[],[],[]]\n",
    "X_r = [[],[],[],[],[],[]]\n",
    "for i in range(0,6):\n",
    "    T = 0.01 + i*2\n",
    "    r = 0.001\n",
    "    r_0(rho_0)\n",
    "    while r < r_0(rho_0):\n",
    "        eta(T,rho_0)\n",
    "        z_0(T,rho_0)\n",
    "        V(r,T,rho_0)\n",
    "\n",
    "        y = V(r,T,rho_0)*r\n",
    "        Y_V_r[i].append(y)\n",
    "        X_r[i].append(r)\n",
    "        r += 0.01"
   ]
  },
  {
   "cell_type": "code",
   "execution_count": 13,
   "metadata": {},
   "outputs": [
    {
     "name": "stdout",
     "output_type": "stream",
     "text": [
      "Plot:  1   T=  0.01\nPlot:  2   T=  2.01\nPlot:  3   T=  4.01\nPlot:  4   T=  6.01\nPlot:  5   T=  8.01\nPlot:  6   T=  10.01\n"
     ]
    },
    {
     "data": {
      "image/png": "[encoded data removed]",
      "text/plain": [
       "<Figure size 432x288 with 1 Axes>"
      ]
     },
     "metadata": {},
     "output_type": "display_data"
    }
   ],
   "source": [
    "fig = plt.figure()\n",
    "for i in range(0,6):\n",
    "    graph1 = plt.plot(X_r[i], Y_V_r[i])\n",
    "    print('Plot: ',i+1,' ','T= ', 0.01 + i*2 )\n",
    "\n",
    "\n",
    "\n",
    "# save(name='pic_2_1', fmt='pdf')\n",
    "# save(name='pic_2_1', fmt='png')\n",
    "plt.grid(True)\n",
    "plt.show()"
   ]
  },
  {
   "cell_type": "code",
   "execution_count": 56,
   "metadata": {},
   "outputs": [],
   "source": [
    "#ВСЁ ДЛЯ ЛИНЕАРИЗАЦИИ И ПРОГОНКИ С ИТЕРАЦИЯМИ\n",
    "N = 999\n",
    "s = 5\n",
    "T_current = 0.1\n",
    "s_current = 0\n",
    "\n",
    "PHI_S = [[0]*(N+1)]*5\n",
    "X = [0]*(N+1)\n",
    "A = [0]*(N+1)\n",
    "B = [0]*(N+1)\n",
    "C = [0]*(N+1)\n",
    "D = [0]*(N+1)\n",
    "ITERATIONS = [[0]*(N+1)]*5\n",
    "RESULT0 = [0]*(N+1)\n",
    "RESULT1 = [0]*(N+1)\n",
    "RESULT2 = [0]*(N+1)\n",
    "RESULT3 = [0]*(N+1)\n",
    "RESULT4 = [0]*(N+1)\n",
    "ALPHA = [0]*(N+1)\n",
    "BETA = [0]*(N+1)\n",
    "Y = [0]*(N+1)\n",
    "#константа а в уравнении \n",
    "const = 4*(2*theta(T_current))**2/math.pi*(r_glushka)**2 \n",
    "\n",
    "\n",
    "#СЕТКА  \n",
    "def x():\n",
    "    for i in range(N+1):\n",
    "       \n",
    "        X[i] = (i/N)**2   \n",
    "def phi(s = s_current,T = T_current,rho = rho_0):\n",
    "    for i in range(N+1):\n",
    "       \n",
    "        if i == 0:\n",
    "            PHI_S[s_current][0] = z/(theta(T)*r_glushka)\n",
    "        else:\n",
    "            PHI_S[s_current][i] = z/(theta(T)*r_glushka)*(1-3/2*X[i]+1/2*X[i]**3)-theta(T)*X[i]\n",
    "\n",
    "\n",
    "#ШАГ СЕТКИ\n",
    "def h(N):\n",
    "    return 1-X[N-1]\n",
    "#КОЭФФИЦИЕНТЫ\n",
    "def a():\n",
    "    for i in range(1,N):\n",
    "      \n",
    "        A[i] = 1/(X[i]-X[i-1])\n",
    "def c():\n",
    "    for i in range(1,N):\n",
    "        C[i] =  1/(X[i+1]-X[i])\n",
    "def b(s = s_current):\n",
    "    for i in range(1,N):\n",
    "\n",
    "        B[i] =  -A[i]-C[i]-const/4*(X[i+1]-X[i-1])*integral_minus_1_2(PHI_S[s_current][i]/X[i])\n",
    "def d(s = s_current):\n",
    "    for i in range(1,N):\n",
    "        D[i] = const*(X[i+1]-X[i-1])*((X[i]/2*integral_1_2(PHI_S[s_current][i])) - PHI_S[s_current][i]/4*integral_minus_1_2(PHI_S[s_current][i]/X[i]))\n",
    "def alpha(s = s_current):\n",
    "    for i in range(N-1,-1,-1):\n",
    "        if i==N-1:\n",
    "            ALPHA[i] = 1/(1-h(N)+h(N)**2/4*const*integral_minus_1_2(PHI_S[s_current][N]))\n",
    "        else:\n",
    "            ALPHA[i] = -A[i+1]/(B[i+1]+C[i+1]*ALPHA[i+1])\n",
    "def beta(s = s_current):\n",
    "    for i in range(N-1,-1,-1):\n",
    "        if i==N-1:\n",
    "            BETA[i] = -h(N)**2/2*const*(integral_1_2(PHI_S[s_current][N])-PHI_S[s_current][i]/2*integral_minus_1_2(PHI_S[s_current][N]))*ALPHA[N-1]\n",
    "        else:\n",
    "            BETA[i] = (D[i+1]-C[i+1]*BETA[i+1])/(B[i+1]+C[i+1]*ALPHA[i+1])\n",
    "#ИСКОМОЕ УРАВНЕНИЕ\n",
    "def y(T = T_current):\n",
    "    for i in range(N+1):\n",
    "        if i==0:\n",
    "            Y[i] =  z/(theta(T)*r_glushka)\n",
    "        else:\n",
    "            Y[i] = ALPHA[i-1]*Y[i-1]+BETA[i-1]    \n",
    "    "
   ]
  },
  {
   "cell_type": "code",
   "execution_count": 57,
   "metadata": {},
   "outputs": [
    {
     "name": "stdout",
     "output_type": "stream",
     "text": [
      "s_current= 0\n1\ns_current= 1\ns_current= 2\ns_current= 3\ns_current= 4\n"
     ]
    }
   ],
   "source": [
    "print('s_current=',s_current)\n",
    "h(N)\n",
    "print(h(N))\n",
    "x()\n",
    "#print(\"X=\",X)\n",
    "phi()\n",
    "#print(phi(0))\n",
    "#print(\"PHI_S_0 =\", PHI_S[s_current])\n",
    "a()\n",
    "#print(\"A=\", A)\n",
    "c()\n",
    "#print(\"C=\",C)\n",
    "b()\n",
    "#print(\"B=\", B)\n",
    "d()\n",
    "#print(\"D=\", D)\n",
    "alpha()\n",
    "#print(\"ALPHA=\", ALPHA)\n",
    "beta()\n",
    "#print(\"BETA=\", BETA)\n",
    "y()\n",
    "#print(\"Y=\", Y)\n",
    "for i in range(N+1):\n",
    "    RESULT0[i] =PHI_S[s_current][i]*theta(T_current)\n",
    "s_current = s_current+1\n",
    "print('s_current=',s_current)\n",
    "for i in range(N+1):\n",
    "    PHI_S[s_current][i] = Y[i]\n",
    "    #print(PHI_S[s_current][i])\n",
    "\n",
    "a()\n",
    "#print(\"A=\", A)\n",
    "c()\n",
    "#print(\"C=\",C)\n",
    "b()\n",
    "#print(\"B=\", B)\n",
    "d()\n",
    "#print(\"D=\", D)\n",
    "alpha()\n",
    "#print(\"ALPHA=\", ALPHA)\n",
    "beta()\n",
    "#print(\"BETA=\", BETA)\n",
    "y()\n",
    "#print(\"Y=\", Y)\n",
    "for i in range(N+1):\n",
    "    RESULT1[i] =Y[i]*theta(T_current)\n",
    "s_current = s_current+1\n",
    "print('s_current=',s_current)\n",
    "for i in range(N+1):\n",
    "    PHI_S[s_current][i] = Y[i]\n",
    "    #print(PHI_S[s_current][i])\n",
    "\n",
    "a()\n",
    "#print(\"A=\", A)\n",
    "c()\n",
    "#print(\"C=\",C)\n",
    "b()\n",
    "#print(\"B=\", B)\n",
    "d()\n",
    "#print(\"D=\", D)\n",
    "alpha()\n",
    "#print(\"ALPHA=\", ALPHA)\n",
    "beta()\n",
    "#print(\"BETA=\", BETA)\n",
    "y()\n",
    "#print(\"Y=\", Y)\n",
    "for i in range(N+1):\n",
    "    RESULT2[i] =Y[i]*theta(T_current)\n",
    "s_current = s_current+1\n",
    "print('s_current=',s_current)\n",
    "for i in range(N+1):\n",
    "    PHI_S[s_current][i] = Y[i]\n",
    "    #print(PHI_S[s_current][i])\n",
    "\n",
    "a()\n",
    "#print(\"A=\", A)\n",
    "c()\n",
    "#print(\"C=\",C)\n",
    "b()\n",
    "#print(\"B=\", B)\n",
    "d()\n",
    "#print(\"D=\", D)\n",
    "alpha()\n",
    "#print(\"ALPHA=\", ALPHA)\n",
    "beta()\n",
    "#print(\"BETA=\", BETA)\n",
    "y()\n",
    "#print(\"Y=\", Y)\n",
    "for i in range(N+1):\n",
    "    RESULT3[i] =Y[i]*theta(T_current)\n",
    "s_current = s_current+1\n",
    "print('s_current=',s_current)\n",
    "for i in range(N+1):\n",
    "    PHI_S[s_current][i] = Y[i]\n",
    "    #print(PHI_S[s_current][i])"
   ]
  },
  {
   "cell_type": "code",
   "execution_count": 58,
   "metadata": {},
   "outputs": [
    {
     "data": {
      "image/png": "[encoded data removed]",
      "text/plain": [
       "<Figure size 432x288 with 1 Axes>"
      ]
     },
     "metadata": {},
     "output_type": "display_data"
    }
   ],
   "source": [
    "fig = plt.figure()\n",
    "graph1 = plt.plot(X,RESULT0)\n",
    "graph2 = plt.plot(X,RESULT1)\n",
    "graph3 = plt.plot(X,RESULT2)\n",
    "graph4 = plt.plot(X,RESULT3)\n",
    "\n",
    "plt.grid(True)\n",
    "plt.show()"
   ]
  },
  {
   "cell_type": "code",
   "execution_count": 59,
   "metadata": {},
   "outputs": [
    {
     "name": "stdout",
     "output_type": "stream",
     "text": [
      "3.6749322480854656\n"
     ]
    }
   ],
   "source": [
    "print(theta(T_current))"
   ]
  },
  {
   "cell_type": "code",
   "execution_count": 60,
   "metadata": {},
   "outputs": [],
   "source": [
    "\n",
    "RESULT_V = [0]*(N+1)\n",
    "R = []\n",
    "F = [[0]*(N+1)]*5\n",
    "V = [[0]*(N+1)]*5 \n",
    "for i in range(N+1):\n",
    "    R.append(X[i]*r_glushka)\n",
    "\n",
    "mu = -theta(T_current)*eta_test\n",
    "for i in range(N+1):\n",
    "    if i==0:\n",
    "        F[0][i] = z/theta(T_current)\n",
    "    else:\n",
    "        F[0][i] = PHI_S[2][i]*R[i]/X[i]\n",
    "for i in range(1,N+1):\n",
    "    if i==N:\n",
    "        V[0][i] = 0\n",
    "    else:\n",
    "        V[0][i] = F[0][i]*theta(T_current)/R[i] - mu\n",
    "for i in range(N+1):\n",
    "    if i==0:\n",
    "        RESULT_V[i] = z\n",
    "    else:\n",
    "        RESULT_V[i] = V[0][i]*R[i]\n"
   ]
  },
  {
   "cell_type": "code",
   "execution_count": 62,
   "metadata": {},
   "outputs": [
    {
     "data": {
      "image/png": "[encoded data removed]",
      "text/plain": [
       "<Figure size 432x288 with 1 Axes>"
      ]
     },
     "metadata": {},
     "output_type": "display_data"
    }
   ],
   "source": [
    "fig = plt.figure()\n",
    "graph1 = plt.plot(R,RESULT_V)\n",
    "for i in range(0,6):\n",
    "    graph2 = plt.plot(X_r[i], Y_V_r[i])\n",
    "plt.grid(True)\n",
    "plt.show()"
   ]
  },
  {
   "cell_type": "code",
   "execution_count": 65,
   "metadata": {},
   "outputs": [
    {
     "name": "stdout",
     "output_type": "stream",
     "text": [
      "0.0\n"
     ]
    }
   ],
   "source": [
    "print(PHI_S[0][0] - z/(theta(T_current)*r_glushka))\n",
    "      "
   ]
  },
  {
   "cell_type": "code",
   "execution_count": null,
   "metadata": {},
   "outputs": [],
   "source": []
  }
 ],
 "metadata": {
  "kernelspec": {
   "display_name": "Python 2",
   "language": "python",
   "name": "python2"
  },
  "language_info": {
   "codemirror_mode": {
    "name": "ipython",
    "version": 2
   },
   "file_extension": ".py",
   "mimetype": "text/x-python",
   "name": "python",
   "nbconvert_exporter": "python",
   "pygments_lexer": "ipython2",
   "version": "2.7.6"
  }
 },
 "nbformat": 4,
 "nbformat_minor": 0
}
