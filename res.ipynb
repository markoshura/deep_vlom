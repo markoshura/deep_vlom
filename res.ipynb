{
 "cells": [
  {
   "cell_type": "code",
   "execution_count": 1,
   "metadata": {},
   "outputs": [],
   "source": [
    ""
   ]
  },
  {
   "cell_type": "code",
   "execution_count": null,
   "metadata": {},
   "outputs": [],
   "source": []
  },
  {
   "cell_type": "code",
   "execution_count": 1,
   "metadata": {
    "collapsed": true
   },
   "outputs": [],
   "source": [
    "%matplotlib inline\n",
    "\n",
    "import math\n",
    "import numpy as np\n",
    "import matplotlib.pyplot as plt\n",
    "from math import gamma"
   ]
  },
  {
   "cell_type": "code",
   "execution_count": 2,
   "metadata": {
    "collapsed": true
   },
   "outputs": [],
   "source": [
    "A = 196.96657\n",
    "rho = 1\n",
    "def v(r):\n",
    "    return z_0(i) / r * (1 - 3 / 2 * r / r_0 + 1 / 2 * pow((r / r_0), 3))\n",
    "#если eta>>1\n",
    "def z_0(i):\n",
    "    return 317.5 * A * pow(T[i], (3 / 2))*2/(np.pi**(1/2)) * integral(-eta(i))/ (rho)\n",
    "#функции Ферми-Дирака\n",
    "#def i_much_less_minus1(k,x):\n",
    " #   return gamma(k+1)*math.exp(x)\n",
    "#def i_much_more_1(k,x):\n",
    "#    return x**(k+1)/(k+1)\n",
    "def integral(x):\n",
    "    sqx=x**(1/2)\n",
    "    xsqx=x*sqx\n",
    "    #Апроксимация функции дирака трёхчленной формулой при k=1/2\n",
    "    if (x>=176868.709):\n",
    "        return xsqx/1.5+0.82246703342411321823620758332301/sqx+0.71027462212293443818237742585514/(x*xsqx);\n",
    "    elif (x<-17.9):\n",
    "            return 0.88622692545275801364908374167057*math.exp(x)\n",
    "    \n",
    "    else: \n",
    "        if (x>30.0):\n",
    "           i0=x\n",
    "        else:\n",
    "           i0=math.log(1.0+math.exp(x),math.e)\n",
    "        \n",
    "        return (0.8862269254528)*i0*((1.0+1.178*i0+(0.1812102675)*(i0**3.0))**(1.0/6.0))   \n",
    "def eta(i):\n",
    "    q = 2.795*10**(-3)*z*rho/(A*T[i]**(3/2))\n",
    "    return 1/2*math.log(math.pi/6,math.e)-3/2*math.log((math.exp((2/3*q**(2))**(1/3))-1),math.e)"
   ]
  },
  {
   "cell_type": "code",
   "execution_count": 3,
   "metadata": {
    "collapsed": true
   },
   "outputs": [
    {
     "name": "stdout",
     "output_type": "stream",
     "text": [
      "98.21810697254608\n83.84772890698817\n79.63660084240017\n79.16067695299135\n"
     ]
    }
   ],
   "source": [
    "z = 79\n",
    "a_0 =  0.52917721067*10**(-8)\n",
    "Na = 6.022* 10**(23)\n",
    "r_0 = 1/a_0*(3/(4*math.pi)*A/(rho*Na))**(1/3)\n",
    "T = [0.01, 0.1, 1, 10]\n",
    "z = 79\n",
    "\n",
    "rho = 1\n",
    "\n",
    "#eta = [2.78, 4.75, 6.99, 10.1]\n",
    "#eta = 1/2*math.log(math.pi/6,math.e)-3/2*math.log((math.exp((2*q**2/3)**(1/3))-1),math.e)\n",
    "#q = 2.795*10**(-3)*z_0*rho/(A*T**(3/2))\n",
    "# Z_0 = [3.80, 17.1, 57.8, 77.9]\n",
    "# r_* = [2.63, 2.58, 0.83, 0.11]\n",
    "# theta =\n",
    "\n",
    "\n",
    "# rho_e = pow((2*theta),(3/2))*(I(-eta)_(1/2))/(2*pow(math.pi,2))\n",
    "# rho_e = Z_0/((4/3)*math.pi*pow(r_0,3))\n",
    "# Z_0 = 4/3*math.pi*pow(r_0,3)*pow((2*theta),(3/2))/(2*pow(math.pi,2))*(I(-eta)_(1/2))\n",
    "\n",
    "\n",
    "G=[[],[],[],[]]\n",
    "R=[[],[],[],[]]\n",
    "for i in range(0,4):\n",
    "    z_0(i)\n",
    "    print(z_0(i))\n",
    "    eta(i)\n",
    "    r = 0.01\n",
    "    while r < r_0-0.01:\n",
    "        v(r)\n",
    "        y = r * v(r)\n",
    "        G[i].append(y)\n",
    "        R[i].append(r)\n",
    "        r += 0.01"
   ]
  },
  {
   "cell_type": "code",
   "execution_count": 4,
   "metadata": {},
   "outputs": [
    {
     "name": "stdout",
     "output_type": "stream",
     "text": [
      "Plot:  1   T=  0.01\nPlot:  2   T=  0.1\nPlot:  3   T=  1\nPlot:  4   T=  10\n"
     ]
    },
    {
     "data": {
      "image/png": "[encoded data removed]",
      "text/plain": [
       "<Figure size 432x288 with 1 Axes>"
      ]
     },
     "metadata": {},
     "output_type": "display_data"
    }
   ],
   "source": [
    "fig = plt.figure()\n",
    "for i in range(0,4):\n",
    "    graph1 = plt.plot(R[i], G[i])\n",
    "    print('Plot: ',i+1,' ','T= ', T[i])\n",
    "\n",
    "\n",
    "\n",
    "# save(name='pic_2_1', fmt='pdf')\n",
    "# save(name='pic_2_1', fmt='png')\n",
    "plt.grid(True)\n",
    "plt.show()"
   ]
  },
  {
   "cell_type": "code",
   "execution_count": 11,
   "metadata": {},
   "outputs": [],
   "source": []
  },
  {
   "cell_type": "code",
   "execution_count": 6,
   "metadata": {},
   "outputs": [],
   "source": []
  },
  {
   "cell_type": "code",
   "execution_count": 6,
   "metadata": {},
   "outputs": [],
   "source": []
  },
  {
   "cell_type": "code",
   "execution_count": 6,
   "metadata": {},
   "outputs": [],
   "source": []
  },
  {
   "cell_type": "code",
   "execution_count": 6,
   "metadata": {},
   "outputs": [],
   "source": []
  },
  {
   "cell_type": "code",
   "execution_count": 6,
   "metadata": {},
   "outputs": [],
   "source": []
  },
  {
   "cell_type": "code",
   "execution_count": 6,
   "metadata": {},
   "outputs": [],
   "source": []
  },
  {
   "cell_type": "code",
   "execution_count": null,
   "metadata": {},
   "outputs": [],
   "source": []
  }
 ],
 "metadata": {
  "kernelspec": {
   "display_name": "Python 2",
   "language": "python",
   "name": "python2"
  },
  "language_info": {
   "codemirror_mode": {
    "name": "ipython",
    "version": 2
   },
   "file_extension": ".py",
   "mimetype": "text/x-python",
   "name": "python",
   "nbconvert_exporter": "python",
   "pygments_lexer": "ipython2",
   "version": "2.7.6"
  }
 },
 "nbformat": 4,
 "nbformat_minor": 0
}
