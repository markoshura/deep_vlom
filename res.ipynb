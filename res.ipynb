{
 "cells": [
  {
   "cell_type": "code",
   "execution_count": 1,
   "metadata": {
    "collapsed": true
   },
   "outputs": [],
   "source": [
    "%matplotlib inline\n",
    "\n",
    "import math\n",
    "import numpy as np\n",
    "import matplotlib.pyplot as plt\n",
    "from math import gamma"
   ]
  },
  {
   "cell_type": "code",
   "execution_count": 2,
   "metadata": {},
   "outputs": [],
   "source": [
    "#ТАБЛИЧНЫЕ ВЕЛИЧИНЫ\n",
    "\n",
    "\n",
    "#Радиус Бора\n",
    "a_0 =  0.52917721067*10**(-8)\n",
    "\n",
    "#Число Авогадро\n",
    "Na = 6.022* 10**(23)\n",
    "\n",
    "#Энергия Хартри (keV)\n",
    "E_h = 0.02721138602 "
   ]
  },
  {
   "cell_type": "code",
   "execution_count": 3,
   "metadata": {
    "collapsed": true
   },
   "outputs": [],
   "source": [
    "#ИНФОРМАЦИЯ ОБ АТОМЕ\n",
    "\n",
    "\n",
    "#Атомный вес\n",
    "A = 196.96657\n",
    "z = 79"
   ]
  },
  {
   "cell_type": "code",
   "execution_count": 4,
   "metadata": {},
   "outputs": [],
   "source": [
    "#ИЗМЕНЯЮЩИЕСЯ ПАРАМЕТРЫ СИСТЕМЫ\n",
    "\n",
    "\n",
    "#Плотность\n",
    "rho_0 = 1"
   ]
  },
  {
   "cell_type": "code",
   "execution_count": 7,
   "metadata": {},
   "outputs": [],
   "source": [
    "#ВСПОМОГАТЕЛЬНЫЕ ФУНКЦИИ\n",
    "\n",
    "\n",
    "#Функция Ферми-Дирака I_1/2\n",
    "def integral_1_2(x):\n",
    "    sqx=x**(1/2)\n",
    "    xsqx=x*sqx\n",
    "    #Апроксимация функции дирака трёхчленной формулой при k=1/2\n",
    "    if (x>=176868.709):\n",
    "        return xsqx/1.5+0.82246703342411321823620758332301/sqx+0.71027462212293443818237742585514/(x*xsqx);\n",
    "    elif (x<-17.9):\n",
    "        return 0.88622692545275801364908374167057*math.exp(x) \n",
    "    else: \n",
    "        if (x>30.0):\n",
    "           i0=x\n",
    "        else:\n",
    "           i0=math.log(1.0+math.exp(x),math.e)\n",
    "        \n",
    "        return (0.8862269254528)*i0*((1.0+1.178*i0+(0.1812102675)*(i0**3.0))**(1.0/6.0)) \n",
    "\n",
    "#Функция Ферми-Дирака I_3/2\n",
    "def integral_3_2(x):\n",
    "    return 3/10*integral_1_2(x)*(125+60*integral_1_2(x)+18*(integral_1_2(x))**2)**(1/3)\n"
   ]
  },
  {
   "cell_type": "code",
   "execution_count": 8,
   "metadata": {},
   "outputs": [],
   "source": [
    "#ПАРАМЕТРЫ ЯЧЕЙКИ\n",
    "\n",
    "\n",
    "#Безразмерный потенциал\n",
    "def eta(T,rho):\n",
    "    q = 2.795*10**(-3)*z*rho/(A*T**(3/2))\n",
    "    return 1/2*math.log(math.pi/6,math.e)-3/2*math.log((math.exp((2/3*q**2)**(1/3))-1),math.e)\n",
    "\n",
    "#Заряд ядра\n",
    "def z_0(T, rho):\n",
    "    return 317.5 * A * pow(T, (3 / 2))*2/(np.pi**(1/2)) * integral_1_2(-eta(T,rho))/(rho)\n",
    "\n",
    "#Средний радиус атомной ячейки\n",
    "def r_0(rho):\n",
    "    return 1/a_0*(3/(4*math.pi)*A/(rho*Na))**(1/3)\n",
    "\n",
    "#Объём атомной ячейки\n",
    "def volume(rho):\n",
    "    return 4/2*math.pi*(r_0(rho))**3\n",
    "\n",
    "#Число свободных электронов на атом\n",
    "def rho_e(T, rho):\n",
    "    return z_0(T, rho)/volume(rho)\n",
    "\n",
    "#Характеристическая температура\n",
    "def theta(T):\n",
    "    return T/E_h"
   ]
  },
  {
   "cell_type": "code",
   "execution_count": 9,
   "metadata": {},
   "outputs": [],
   "source": [
    "#ВАЖНЫЕ ФУНКЦИИ СОСТОЯНИЯ\n",
    "\n",
    "\n",
    "#Потенциал в модели ППЭ\n",
    "def V(r, T, rho):\n",
    "    return z_0(T, rho) / r * (1 - 3 / 2 * r / r_0(rho) + 1 / 2 * pow((r / (r_0(rho))), 3))\n",
    "\n",
    "#Аппроксимация давления электронного газа\n",
    "def P_e(T, rho):\n",
    "    return rho_e(T, rho)*((theta(T))**3+3.36*rho_e(T, rho)*(theta(T))**(3/2)+9/125*(math.pi)**4*(rho_e(T, rho))**2)**(1/3)\n",
    "\n",
    "#Полное давление (ГПа)\n",
    "def P(T, rho):\n",
    "    return 2.942*10**4*(P_e(T,rho)+theta(T)/volume(rho))\n"
   ]
  },
  {
   "cell_type": "code",
   "execution_count": 17,
   "metadata": {
    "collapsed": true
   },
   "outputs": [],
   "source": [
    "G=[[],[],[],[],[],[]]\n",
    "R=[[],[],[],[],[],[]]\n",
    "for i in range(0,6):\n",
    "    T = 0.01 + i*2\n",
    "    rho = 0.001\n",
    "    while rho < (rho_0)*10+0.01:\n",
    "        eta(T,rho)\n",
    "        z_0(T,rho)\n",
    "        r_0(rho)\n",
    "        volume(rho)\n",
    "        rho_e(T,rho)\n",
    "        theta(T)\n",
    "        P_e(T,rho)\n",
    "        P(T,rho)\n",
    "        y = P(T,rho)\n",
    "        G[i].append(y)\n",
    "        R[i].append(rho)\n",
    "        rho += 0.01"
   ]
  },
  {
   "cell_type": "code",
   "execution_count": 18,
   "metadata": {},
   "outputs": [
    {
     "name": "stdout",
     "output_type": "stream",
     "text": [
      "Plot:  1   T=  0.01\nPlot:  2   T=  2.01\nPlot:  3   T=  4.01\nPlot:  4   T=  6.01\nPlot:  5   T=  8.01\nPlot:  6   T=  10.01\n"
     ]
    },
    {
     "data": {
      "image/png": "[encoded data removed]",
      "text/plain": [
       "<Figure size 432x288 with 1 Axes>"
      ]
     },
     "metadata": {},
     "output_type": "display_data"
    }
   ],
   "source": [
    "fig = plt.figure()\n",
    "for i in range(0,6):\n",
    "    graph1 = plt.plot(R[i], G[i])\n",
    "    print('Plot: ',i+1,' ','T= ', 0.01 + i*2 )\n",
    "\n",
    "\n",
    "\n",
    "# save(name='pic_2_1', fmt='pdf')\n",
    "# save(name='pic_2_1', fmt='png')\n",
    "plt.grid(True)\n",
    "plt.show()"
   ]
  },
  {
   "cell_type": "code",
   "execution_count": null,
   "metadata": {},
   "outputs": [],
   "source": []
  }
 ],
 "metadata": {
  "kernelspec": {
   "display_name": "Python 2",
   "language": "python",
   "name": "python2"
  },
  "language_info": {
   "codemirror_mode": {
    "name": "ipython",
    "version": 2
   },
   "file_extension": ".py",
   "mimetype": "text/x-python",
   "name": "python",
   "nbconvert_exporter": "python",
   "pygments_lexer": "ipython2",
   "version": "2.7.6"
  }
 },
 "nbformat": 4,
 "nbformat_minor": 0
}
